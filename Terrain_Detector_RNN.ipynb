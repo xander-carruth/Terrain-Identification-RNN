{
  "nbformat": 4,
  "nbformat_minor": 0,
  "metadata": {
    "colab": {
      "provenance": []
    },
    "kernelspec": {
      "display_name": "Python 3",
      "name": "python3"
    }
  },
  "cells": [
    {
      "cell_type": "markdown",
      "source": [
        "Credits to: Xander Carruth, Hosung Hwang, Utsab Ray"
      ],
      "metadata": {
        "id": "IsxmFpWAdE9Y"
      }
    },
    {
      "cell_type": "code",
      "metadata": {
        "id": "_HCIivy3OABN"
      },
      "source": [
        "import collections\n",
        "import tensorflow as tf\n",
        "import matplotlib.pyplot as plt\n",
        "\n",
        "import keras\n",
        "from keras.models import Sequential, load_model\n",
        "from keras.layers import Dense, Activation, Flatten, Dropout, MaxPooling1D, BatchNormalization\n",
        "from keras.layers import Conv1D\n",
        "from keras.optimizers import Adam\n",
        "from keras.utils import to_categorical\n",
        "from keras.callbacks import ModelCheckpoint\n",
        "\n",
        "import numpy as np\n",
        "import io\n",
        "import pandas as pd\n",
        "from numpy import hstack, array\n",
        "from sklearn.preprocessing import OneHotEncoder, MinMaxScaler"
      ],
      "execution_count": null,
      "outputs": []
    },
    {
      "cell_type": "code",
      "metadata": {
        "id": "79qdBH9Qx9zv"
      },
      "source": [
        "# single location to define subject_location\n",
        "subject_count =8"
      ],
      "execution_count": null,
      "outputs": []
    },
    {
      "cell_type": "code",
      "metadata": {
        "id": "KH6uakhckLBe",
        "colab": {
          "resources": {
            "http://localhost:8080/nbextensions/google.colab/files.js": {
              "data": "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",
              "ok": true,
              "headers": [
                [
                  "content-type",
                  "application/javascript"
                ]
              ],
              "status": 200,
              "status_text": ""
            }
          },
          "base_uri": "https://localhost:8080/",
          "height": 361
        },
        "outputId": "9f022ce7-6bda-450d-e5d8-32cd881427ba"
      },
      "source": [
        "# upload files\n",
        "from google.colab import files\n",
        "\n",
        "uploaded = files.upload()\n"
      ],
      "execution_count": null,
      "outputs": [
        {
          "output_type": "display_data",
          "data": {
            "text/html": [
              "\n",
              "     <input type=\"file\" id=\"files-59135074-6a72-4752-8cb2-e864d00ac5d0\" name=\"files[]\" multiple disabled\n",
              "        style=\"border:none\" />\n",
              "     <output id=\"result-59135074-6a72-4752-8cb2-e864d00ac5d0\">\n",
              "      Upload widget is only available when the cell has been executed in the\n",
              "      current browser session. Please rerun this cell to enable.\n",
              "      </output>\n",
              "      <script src=\"/nbextensions/google.colab/files.js\"></script> "
            ],
            "text/plain": [
              "<IPython.core.display.HTML object>"
            ]
          },
          "metadata": {
            "tags": []
          }
        },
        {
          "output_type": "error",
          "ename": "KeyboardInterrupt",
          "evalue": "ignored",
          "traceback": [
            "\u001b[0;31m---------------------------------------------------------------------------\u001b[0m",
            "\u001b[0;31mKeyboardInterrupt\u001b[0m                         Traceback (most recent call last)",
            "\u001b[0;32m<ipython-input-4-998548cfd1e2>\u001b[0m in \u001b[0;36m<module>\u001b[0;34m()\u001b[0m\n\u001b[1;32m      2\u001b[0m \u001b[0;32mfrom\u001b[0m \u001b[0mgoogle\u001b[0m\u001b[0;34m.\u001b[0m\u001b[0mcolab\u001b[0m \u001b[0;32mimport\u001b[0m \u001b[0mfiles\u001b[0m\u001b[0;34m\u001b[0m\u001b[0;34m\u001b[0m\u001b[0m\n\u001b[1;32m      3\u001b[0m \u001b[0;34m\u001b[0m\u001b[0m\n\u001b[0;32m----> 4\u001b[0;31m \u001b[0muploaded\u001b[0m \u001b[0;34m=\u001b[0m \u001b[0mfiles\u001b[0m\u001b[0;34m.\u001b[0m\u001b[0mupload\u001b[0m\u001b[0;34m(\u001b[0m\u001b[0;34m)\u001b[0m\u001b[0;34m\u001b[0m\u001b[0;34m\u001b[0m\u001b[0m\n\u001b[0m",
            "\u001b[0;32m/usr/local/lib/python3.7/dist-packages/google/colab/files.py\u001b[0m in \u001b[0;36mupload\u001b[0;34m()\u001b[0m\n\u001b[1;32m     62\u001b[0m   result = _output.eval_js(\n\u001b[1;32m     63\u001b[0m       'google.colab._files._uploadFiles(\"{input_id}\", \"{output_id}\")'.format(\n\u001b[0;32m---> 64\u001b[0;31m           input_id=input_id, output_id=output_id))\n\u001b[0m\u001b[1;32m     65\u001b[0m   \u001b[0mfiles\u001b[0m \u001b[0;34m=\u001b[0m \u001b[0m_collections\u001b[0m\u001b[0;34m.\u001b[0m\u001b[0mdefaultdict\u001b[0m\u001b[0;34m(\u001b[0m\u001b[0m_six\u001b[0m\u001b[0;34m.\u001b[0m\u001b[0mbinary_type\u001b[0m\u001b[0;34m)\u001b[0m\u001b[0;34m\u001b[0m\u001b[0;34m\u001b[0m\u001b[0m\n\u001b[1;32m     66\u001b[0m   \u001b[0;31m# Mapping from original filename to filename as saved locally.\u001b[0m\u001b[0;34m\u001b[0m\u001b[0;34m\u001b[0m\u001b[0;34m\u001b[0m\u001b[0m\n",
            "\u001b[0;32m/usr/local/lib/python3.7/dist-packages/google/colab/output/_js.py\u001b[0m in \u001b[0;36meval_js\u001b[0;34m(script, ignore_result, timeout_sec)\u001b[0m\n\u001b[1;32m     38\u001b[0m   \u001b[0;32mif\u001b[0m \u001b[0mignore_result\u001b[0m\u001b[0;34m:\u001b[0m\u001b[0;34m\u001b[0m\u001b[0;34m\u001b[0m\u001b[0m\n\u001b[1;32m     39\u001b[0m     \u001b[0;32mreturn\u001b[0m\u001b[0;34m\u001b[0m\u001b[0;34m\u001b[0m\u001b[0m\n\u001b[0;32m---> 40\u001b[0;31m   \u001b[0;32mreturn\u001b[0m \u001b[0m_message\u001b[0m\u001b[0;34m.\u001b[0m\u001b[0mread_reply_from_input\u001b[0m\u001b[0;34m(\u001b[0m\u001b[0mrequest_id\u001b[0m\u001b[0;34m,\u001b[0m \u001b[0mtimeout_sec\u001b[0m\u001b[0;34m)\u001b[0m\u001b[0;34m\u001b[0m\u001b[0;34m\u001b[0m\u001b[0m\n\u001b[0m\u001b[1;32m     41\u001b[0m \u001b[0;34m\u001b[0m\u001b[0m\n\u001b[1;32m     42\u001b[0m \u001b[0;34m\u001b[0m\u001b[0m\n",
            "\u001b[0;32m/usr/local/lib/python3.7/dist-packages/google/colab/_message.py\u001b[0m in \u001b[0;36mread_reply_from_input\u001b[0;34m(message_id, timeout_sec)\u001b[0m\n\u001b[1;32m     99\u001b[0m     \u001b[0mreply\u001b[0m \u001b[0;34m=\u001b[0m \u001b[0m_read_next_input_message\u001b[0m\u001b[0;34m(\u001b[0m\u001b[0;34m)\u001b[0m\u001b[0;34m\u001b[0m\u001b[0;34m\u001b[0m\u001b[0m\n\u001b[1;32m    100\u001b[0m     \u001b[0;32mif\u001b[0m \u001b[0mreply\u001b[0m \u001b[0;34m==\u001b[0m \u001b[0m_NOT_READY\u001b[0m \u001b[0;32mor\u001b[0m \u001b[0;32mnot\u001b[0m \u001b[0misinstance\u001b[0m\u001b[0;34m(\u001b[0m\u001b[0mreply\u001b[0m\u001b[0;34m,\u001b[0m \u001b[0mdict\u001b[0m\u001b[0;34m)\u001b[0m\u001b[0;34m:\u001b[0m\u001b[0;34m\u001b[0m\u001b[0;34m\u001b[0m\u001b[0m\n\u001b[0;32m--> 101\u001b[0;31m       \u001b[0mtime\u001b[0m\u001b[0;34m.\u001b[0m\u001b[0msleep\u001b[0m\u001b[0;34m(\u001b[0m\u001b[0;36m0.025\u001b[0m\u001b[0;34m)\u001b[0m\u001b[0;34m\u001b[0m\u001b[0;34m\u001b[0m\u001b[0m\n\u001b[0m\u001b[1;32m    102\u001b[0m       \u001b[0;32mcontinue\u001b[0m\u001b[0;34m\u001b[0m\u001b[0;34m\u001b[0m\u001b[0m\n\u001b[1;32m    103\u001b[0m     if (reply.get('type') == 'colab_reply' and\n",
            "\u001b[0;31mKeyboardInterrupt\u001b[0m: "
          ]
        }
      ]
    },
    {
      "cell_type": "code",
      "metadata": {
        "id": "mV-Yds8RAuAM"
      },
      "source": [
        "#combining sets\n",
        "def combine_data_x(file1, file2):\n",
        "  headerList1 = ['time']\n",
        "  headerList2 = ['xacc','yacc','zacc','xgyr','ygyr','zgyr']\n",
        "  csv1 = pd.read_csv(io.BytesIO(uploaded[file1]))\n",
        "  csv2 = pd.read_csv(io.BytesIO(uploaded[file2]))\n",
        "  csv1 = csv1.to_csv(\"csv1.csv\", header=headerList1, index=False)\n",
        "  csv2 = csv2.to_csv(\"csv2.csv\", header=headerList2, index=False)\n",
        "  sub_1 = pd.read_csv(\"csv1.csv\")\n",
        "  sub_2 = pd.read_csv(\"csv2.csv\")\n",
        "  for item in headerList2:\n",
        "    sub_1[item] = sub_2[item]\n",
        "  return sub_1\n",
        "\n",
        "def combine_data_y(file1, file2):\n",
        "  headerList1 = ['time']\n",
        "  headerList2 = ['class']\n",
        "  csv1 = pd.read_csv(io.BytesIO(uploaded[file1]))\n",
        "  csv2 = pd.read_csv(io.BytesIO(uploaded[file2]))\n",
        "  csv1 = csv1.to_csv(\"csv1.csv\", header=headerList1, index=False)\n",
        "  csv2 = csv2.to_csv(\"csv2.csv\", header=headerList2, index=False)\n",
        "  sub_1 = pd.read_csv(\"csv1.csv\")\n",
        "  sub_2 = pd.read_csv(\"csv2.csv\")\n",
        "  for item in headerList2:\n",
        "    sub_1[item] = sub_2[item]\n",
        "  return sub_1"
      ],
      "execution_count": null,
      "outputs": []
    },
    {
      "cell_type": "code",
      "metadata": {
        "id": "f1E231GLAucO"
      },
      "source": [
        "def concat_data_x(subject_count):\n",
        "  df = pd.DataFrame()\n",
        "  for i in range(subject_count):\n",
        "    subject = i+1\n",
        "    if(subject==1):\n",
        "      trials = 8\n",
        "    if(subject==2):\n",
        "      trials = 5\n",
        "    if(subject==3):\n",
        "      trials = 3\n",
        "    if(subject==4):\n",
        "      trials = 2\n",
        "    if(subject==5):\n",
        "      trials = 3\n",
        "    if(subject==6):\n",
        "      trials = 3\n",
        "    if(subject==7):\n",
        "      trials = 4\n",
        "    if(subject==8):\n",
        "      trials = 1\n",
        "    for x in range(trials):\n",
        "      df = pd.concat([df, combine_data_x('subject_00'+str(subject)+'_0'+str(trials)+'__x_time.csv',\n",
        "                                         'subject_00'+str(subject)+'_0'+str(trials)+'__x.csv')],axis=0)\n",
        "  return df\n",
        "\n",
        "def concat_data_y(subject_count):\n",
        "  df = pd.DataFrame()\n",
        "  for i in range(subject_count):\n",
        "    subject = i+1\n",
        "    if(subject==1):\n",
        "      trials = 8\n",
        "    if(subject==2):\n",
        "      trials = 5\n",
        "    if(subject==3):\n",
        "      trials = 3\n",
        "    if(subject==4):\n",
        "      trials = 2\n",
        "    if(subject==5):\n",
        "      trials = 3\n",
        "    if(subject==6):\n",
        "      trials = 3\n",
        "    if(subject==7):\n",
        "      trials = 4\n",
        "    if(subject==8):\n",
        "      trials = 1\n",
        "    for x in range(trials):\n",
        "      df = pd.concat([df, combine_data_y('subject_00'+str(subject)+'_0'+str(trials)+'__y_time.csv',\n",
        "                                         'subject_00'+str(subject)+'_0'+str(trials)+'__y.csv')],axis=0)\n",
        "  return df\n",
        "\n",
        "\n"
      ],
      "execution_count": null,
      "outputs": []
    },
    {
      "cell_type": "code",
      "metadata": {
        "id": "C0xbmbvFAyh4"
      },
      "source": [
        "x_train = concat_data_x(subject_count)\n",
        "y_train = concat_data_y(subject_count)"
      ],
      "execution_count": null,
      "outputs": []
    },
    {
      "cell_type": "code",
      "metadata": {
        "id": "17wLUh2JiUY0"
      },
      "source": [
        "y_train.reset_index()\n",
        "y_train = y_train.drop(columns='time', axis=1)\n",
        "x_train = x_train.drop(columns='time', axis=1)"
      ],
      "execution_count": null,
      "outputs": []
    },
    {
      "cell_type": "code",
      "metadata": {
        "id": "1ubkPVtyZ8vG",
        "colab": {
          "base_uri": "https://localhost:8080/"
        },
        "outputId": "d2008825-034a-44d6-f0db-73896de3bcfa"
      },
      "source": [
        "# Upsampling\n",
        "Yresampled = np.linspace(0,len(y_train),len(x_train['xgyr']), endpoint=False)\n",
        "y_array = y_train['class'].to_numpy()\n",
        "print(len(y_array))\n",
        "for i in range(len(Yresampled)):\n",
        "  if(i%4 == 0 and (i/4)<len(y_array)):\n",
        "    Yresampled[i] = y_array[int(i/4)]\n",
        "  else:\n",
        "    Yresampled[i] = float(\"NaN\")\n",
        "Yresampled = pd.DataFrame(Yresampled, columns = ['class'])\n",
        "Yresampled = Yresampled['class'].ffill()\n",
        "y_train = Yresampled"
      ],
      "execution_count": null,
      "outputs": [
        {
          "output_type": "stream",
          "text": [
            "337285\n"
          ],
          "name": "stdout"
        }
      ]
    },
    {
      "cell_type": "code",
      "metadata": {
        "id": "WTOKFVrFZ8Kt"
      },
      "source": [
        "# Dividing training set into 80% training, 20% validation\n",
        "valid_set_percent = 0.2\n",
        "split = int((len(x_train))*(1-valid_set_percent))\n",
        "\n",
        "X_validation = x_train[split:]\n",
        "Y_validation = y_train[split:]\n",
        "\n",
        "X_train = x_train[:split]\n",
        "Y_train = y_train[:split]\n"
      ],
      "execution_count": null,
      "outputs": []
    },
    {
      "cell_type": "code",
      "metadata": {
        "id": "La8ZeMvQb0Mx",
        "colab": {
          "base_uri": "https://localhost:8080/"
        },
        "outputId": "979e9c40-5c3a-48a6-fc58-ce08e48cb911"
      },
      "source": [
        "# Applying SMOTE Oversampling\n",
        "from imblearn.over_sampling import SMOTE\n",
        "\n",
        "SMOTE = SMOTE(ratio='minority')\n",
        "\n",
        "\n",
        "x_train_SMOTE_a, y_train_SMOTE_a = SMOTE.fit_resample(X_train, Y_train)\n",
        "x_train_SMOTE_b, y_train_SMOTE_b = SMOTE.fit_resample(x_train_SMOTE_a, y_train_SMOTE_a)\n",
        "# x_validation_SMOTE, y_validation_SMOTE = SMOTE.fit_resample(X_validation, Y_validation)"
      ],
      "execution_count": null,
      "outputs": [
        {
          "output_type": "stream",
          "text": [
            "/usr/local/lib/python3.7/dist-packages/sklearn/externals/six.py:31: FutureWarning: The module is deprecated in version 0.21 and will be removed in version 0.23 since we've dropped support for Python 2.7. Please rely on the official version of six (https://pypi.org/project/six/).\n",
            "  \"(https://pypi.org/project/six/).\", FutureWarning)\n",
            "/usr/local/lib/python3.7/dist-packages/sklearn/utils/deprecation.py:144: FutureWarning: The sklearn.neighbors.base module is  deprecated in version 0.22 and will be removed in version 0.24. The corresponding classes / functions should instead be imported from sklearn.neighbors. Anything that cannot be imported from sklearn.neighbors is now part of the private API.\n",
            "  warnings.warn(message, FutureWarning)\n",
            "/usr/local/lib/python3.7/dist-packages/sklearn/utils/deprecation.py:87: FutureWarning: Function safe_indexing is deprecated; safe_indexing is deprecated in version 0.22 and will be removed in version 0.24.\n",
            "  warnings.warn(msg, category=FutureWarning)\n",
            "/usr/local/lib/python3.7/dist-packages/sklearn/utils/deprecation.py:87: FutureWarning: Function safe_indexing is deprecated; safe_indexing is deprecated in version 0.22 and will be removed in version 0.24.\n",
            "  warnings.warn(msg, category=FutureWarning)\n"
          ],
          "name": "stderr"
        }
      ]
    },
    {
      "cell_type": "code",
      "metadata": {
        "id": "NzLQf51Z1Hde",
        "colab": {
          "base_uri": "https://localhost:8080/"
        },
        "outputId": "9bc971f2-e017-486e-ac51-38bd1583cae0"
      },
      "source": [
        "from collections import Counter\n",
        "print(\"After oversampling: \",Counter(y_train_SMOTE_b))"
      ],
      "execution_count": null,
      "outputs": [
        {
          "output_type": "stream",
          "text": [
            "After oversampling:  Counter({0.0: 672071, 1.0: 672071, 2.0: 672071, 3.0: 325060})\n"
          ],
          "name": "stdout"
        }
      ]
    },
    {
      "cell_type": "code",
      "metadata": {
        "id": "mCo9G1EcPih8"
      },
      "source": [
        "scaler = MinMaxScaler()\n",
        "x_train_SMOTE_b = scaler.fit_transform(x_train_SMOTE_b)"
      ],
      "execution_count": null,
      "outputs": []
    },
    {
      "cell_type": "code",
      "metadata": {
        "id": "PMwOnFF062F0"
      },
      "source": [
        "x_train_SMOTE = pd.DataFrame(x_train_SMOTE_b, columns = ['xacc','yacc','zacc','xgyr','ygyr','zgyr'])\n",
        "y_train_SMOTE = pd.DataFrame(y_train_SMOTE_b, columns = ['class'])\n"
      ],
      "execution_count": null,
      "outputs": []
    },
    {
      "cell_type": "code",
      "metadata": {
        "id": "JcGc1ieU8eoM"
      },
      "source": [
        "Y_validation = Y_validation.reset_index()"
      ],
      "execution_count": null,
      "outputs": []
    },
    {
      "cell_type": "code",
      "metadata": {
        "colab": {
          "base_uri": "https://localhost:8080/"
        },
        "id": "ayZtjiTnTGtX",
        "outputId": "d0faeee7-e00b-47b4-edf1-94862e7b7409"
      },
      "source": [
        "Y_validation = Y_validation.drop(columns='index',axis=1)\n",
        "print(Y_validation)"
      ],
      "execution_count": null,
      "outputs": [
        {
          "output_type": "stream",
          "text": [
            "        class\n",
            "0         0.0\n",
            "1         0.0\n",
            "2         0.0\n",
            "3         0.0\n",
            "4         0.0\n",
            "...       ...\n",
            "269837    0.0\n",
            "269838    0.0\n",
            "269839    0.0\n",
            "269840    0.0\n",
            "269841    0.0\n",
            "\n",
            "[269842 rows x 1 columns]\n"
          ],
          "name": "stdout"
        }
      ]
    },
    {
      "cell_type": "code",
      "metadata": {
        "id": "e_K0B0mwUUBR"
      },
      "source": [
        "X_validation = scaler.transform(X_validation)\n",
        "X_validation = pd.DataFrame(X_validation, columns = ['xacc','yacc','zacc','xgyr','ygyr','zgyr'])"
      ],
      "execution_count": null,
      "outputs": []
    },
    {
      "cell_type": "code",
      "metadata": {
        "colab": {
          "base_uri": "https://localhost:8080/"
        },
        "id": "zws_Sw1DeK7-",
        "outputId": "49d004b1-9247-427a-c483-4376350c8938"
      },
      "source": [
        "xacc_t = x_train_SMOTE['xacc'].to_numpy()\n",
        "yacc_t = x_train_SMOTE['yacc'].to_numpy()\n",
        "zacc_t = x_train_SMOTE['zacc'].to_numpy()\n",
        "xgyr_t = x_train_SMOTE['xgyr'].to_numpy()\n",
        "ygyr_t = x_train_SMOTE['ygyr'].to_numpy()\n",
        "zgyr_t = x_train_SMOTE['zgyr'].to_numpy()\n",
        "mclass_t = y_train_SMOTE['class'].to_numpy()\n",
        "xacc_v = X_validation['xacc'].to_numpy()\n",
        "yacc_v = X_validation['yacc'].to_numpy()\n",
        "zacc_v = X_validation['zacc'].to_numpy()\n",
        "xgyr_v = X_validation['xgyr'].to_numpy()\n",
        "ygyr_v = X_validation['ygyr'].to_numpy()\n",
        "zgyr_v = X_validation['zgyr'].to_numpy()\n",
        "mclass_v = Y_validation['class'].to_numpy()\n",
        "\n",
        "xacc_t = xacc_t.reshape((len(xacc_t)), 1)\n",
        "yacc_t = yacc_t.reshape((len(yacc_t)), 1)\n",
        "zacc_t = zacc_t.reshape((len(zacc_t)), 1)\n",
        "xgyr_t = xgyr_t.reshape((len(xgyr_t)), 1)\n",
        "ygyr_t = ygyr_t.reshape((len(ygyr_t)), 1)\n",
        "zgyr_t = zgyr_t.reshape((len(zgyr_t)), 1)\n",
        "mclass_t = mclass_t.reshape((len(mclass_t)), 1)\n",
        "xacc_v = xacc_v.reshape((len(xacc_v)), 1)\n",
        "yacc_v = yacc_v.reshape((len(yacc_v)), 1)\n",
        "zacc_v = zacc_v.reshape((len(zacc_v)), 1)\n",
        "xgyr_v = xgyr_v.reshape((len(xgyr_v)), 1)\n",
        "ygyr_v = ygyr_v.reshape((len(ygyr_v)), 1)\n",
        "zgyr_v = zgyr_v.reshape((len(zgyr_v)), 1)\n",
        "mclass_v = mclass_v.reshape((len(mclass_v)), 1)\n",
        "\n",
        "\n",
        "np_dataset_train = hstack((xacc_t, yacc_t, zacc_t, xgyr_t, ygyr_t, zgyr_t, mclass_t))\n",
        "np_dataset_val = hstack((xacc_v, yacc_v, zacc_v, xgyr_v, ygyr_v, zgyr_v, mclass_v))\n",
        "print(np_dataset_train)"
      ],
      "execution_count": null,
      "outputs": [
        {
          "output_type": "stream",
          "text": [
            "[[ 1.081048e-02  9.736126e+00  8.838737e-01 ... -7.866428e-03\n",
            "   1.088949e-03  0.000000e+00]\n",
            " [ 1.489334e-01  9.680800e+00  7.510666e-01 ...  3.766230e-03\n",
            "   6.503122e-03  0.000000e+00]\n",
            " [ 1.996773e-01  9.789677e+00  8.201076e-01 ... -1.764767e-03\n",
            "   1.045746e-02  0.000000e+00]\n",
            " ...\n",
            " [ 9.561449e+00  1.912001e+01  7.896537e+00 ... -2.046022e-01\n",
            "   4.977858e-01  2.000000e+00]\n",
            " [-7.771897e+00  7.477978e+00  1.184773e+01 ... -2.873850e+00\n",
            "  -1.010648e+00  2.000000e+00]\n",
            " [ 2.947378e+00  1.116483e+01  8.891341e+00 ... -1.923521e+00\n",
            "   2.932576e-01  2.000000e+00]]\n"
          ],
          "name": "stdout"
        }
      ]
    },
    {
      "cell_type": "code",
      "metadata": {
        "id": "665hvgRoTQwl"
      },
      "source": [
        "def split_sequences(sequences, n_steps):\n",
        "\tX, y = list(), list()\n",
        "\tfor i in range(len(sequences)):\n",
        "\t\t# find the end of this pattern\n",
        "\t\tend_ix = i + n_steps\n",
        "\t\t# check if we are beyond the dataset\n",
        "\t\tif end_ix > len(sequences):\n",
        "\t\t\tbreak\n",
        "\t\t# gather input and output parts of the pattern\n",
        "\t\tseq_x, seq_y = sequences[i:end_ix, :-1], sequences[end_ix-1, -1]\n",
        "\t\tX.append(seq_x)\n",
        "\t\ty.append(seq_y)\n",
        "\treturn array(X), array(y)"
      ],
      "execution_count": null,
      "outputs": []
    },
    {
      "cell_type": "code",
      "metadata": {
        "id": "EqjGADrstzap",
        "colab": {
          "base_uri": "https://localhost:8080/",
          "height": 232
        },
        "outputId": "9b3cd6af-56b1-4d5e-f72f-e157f8478521"
      },
      "source": [
        "n_steps = 30\n",
        "# convert into input/output\n",
        "X, y = split_sequences(np_dataset_train, n_steps)\n",
        "X_val, y_val = split_sequences(np_dataset_val, n_steps)\n",
        "print(X.shape, y.shape)\n",
        "# the dataset knows the number of features, e.g. 2\n",
        "n_features = X.shape[2]"
      ],
      "execution_count": null,
      "outputs": [
        {
          "output_type": "error",
          "ename": "NameError",
          "evalue": "ignored",
          "traceback": [
            "\u001b[0;31m---------------------------------------------------------------------------\u001b[0m",
            "\u001b[0;31mNameError\u001b[0m                                 Traceback (most recent call last)",
            "\u001b[0;32m<ipython-input-4-86bed939561d>\u001b[0m in \u001b[0;36m<module>\u001b[0;34m()\u001b[0m\n\u001b[1;32m      1\u001b[0m \u001b[0mn_steps\u001b[0m \u001b[0;34m=\u001b[0m \u001b[0;36m30\u001b[0m\u001b[0;34m\u001b[0m\u001b[0;34m\u001b[0m\u001b[0m\n\u001b[1;32m      2\u001b[0m \u001b[0;31m# convert into input/output\u001b[0m\u001b[0;34m\u001b[0m\u001b[0;34m\u001b[0m\u001b[0;34m\u001b[0m\u001b[0m\n\u001b[0;32m----> 3\u001b[0;31m \u001b[0mX\u001b[0m\u001b[0;34m,\u001b[0m \u001b[0my\u001b[0m \u001b[0;34m=\u001b[0m \u001b[0msplit_sequences\u001b[0m\u001b[0;34m(\u001b[0m\u001b[0mnp_dataset_train\u001b[0m\u001b[0;34m,\u001b[0m \u001b[0mn_steps\u001b[0m\u001b[0;34m)\u001b[0m\u001b[0;34m\u001b[0m\u001b[0;34m\u001b[0m\u001b[0m\n\u001b[0m\u001b[1;32m      4\u001b[0m \u001b[0mX_val\u001b[0m\u001b[0;34m,\u001b[0m \u001b[0my_val\u001b[0m \u001b[0;34m=\u001b[0m \u001b[0msplit_sequences\u001b[0m\u001b[0;34m(\u001b[0m\u001b[0mnp_dataset_val\u001b[0m\u001b[0;34m,\u001b[0m \u001b[0mn_steps\u001b[0m\u001b[0;34m)\u001b[0m\u001b[0;34m\u001b[0m\u001b[0;34m\u001b[0m\u001b[0m\n\u001b[1;32m      5\u001b[0m \u001b[0mprint\u001b[0m\u001b[0;34m(\u001b[0m\u001b[0mX\u001b[0m\u001b[0;34m.\u001b[0m\u001b[0mshape\u001b[0m\u001b[0;34m,\u001b[0m \u001b[0my\u001b[0m\u001b[0;34m.\u001b[0m\u001b[0mshape\u001b[0m\u001b[0;34m)\u001b[0m\u001b[0;34m\u001b[0m\u001b[0;34m\u001b[0m\u001b[0m\n",
            "\u001b[0;31mNameError\u001b[0m: name 'split_sequences' is not defined"
          ]
        }
      ]
    },
    {
      "cell_type": "code",
      "metadata": {
        "id": "EZlorAaguNkQ"
      },
      "source": [
        "# define model 1\n",
        "model = Sequential()\n",
        "model.add(Conv1D(filters=64, kernel_size=2, activation='relu', input_shape=(n_steps, n_features)))\n",
        "model.add(MaxPooling1D(pool_size=2))\n",
        "model.add(Flatten())\n",
        "model.add(Dense(50, activation='relu'))\n",
        "model.add(Dense(1))\n",
        "model.compile(optimizer='adam', loss='mse', metrics=['accuracy'])"
      ],
      "execution_count": null,
      "outputs": []
    },
    {
      "cell_type": "code",
      "metadata": {
        "id": "wB35rXWss70a",
        "colab": {
          "base_uri": "https://localhost:8080/"
        },
        "outputId": "f4baba16-ebcb-47f0-b263-098ce4110a66"
      },
      "source": [
        "base_history_model = model.fit(X, y, epochs=15, validation_data=(X_val, y_val), verbose=1)\n"
      ],
      "execution_count": null,
      "outputs": [
        {
          "output_type": "stream",
          "text": [
            "Epoch 1/15\n",
            "73164/73164 [==============================] - 225s 3ms/step - loss: 0.4480 - accuracy: 0.4538 - val_loss: 1.0184 - val_accuracy: 0.3995\n",
            "Epoch 2/15\n",
            "73164/73164 [==============================] - 222s 3ms/step - loss: 0.2542 - accuracy: 0.4976 - val_loss: 1.1066 - val_accuracy: 0.3787\n",
            "Epoch 3/15\n",
            "73164/73164 [==============================] - 224s 3ms/step - loss: 0.2274 - accuracy: 0.5040 - val_loss: 1.0586 - val_accuracy: 0.4757\n",
            "Epoch 4/15\n",
            "73164/73164 [==============================] - 221s 3ms/step - loss: 0.2137 - accuracy: 0.5077 - val_loss: 1.1598 - val_accuracy: 0.4452\n",
            "Epoch 5/15\n",
            "73164/73164 [==============================] - 225s 3ms/step - loss: 0.2061 - accuracy: 0.5097 - val_loss: 1.0992 - val_accuracy: 0.4756\n",
            "Epoch 6/15\n",
            "73164/73164 [==============================] - 225s 3ms/step - loss: 0.2000 - accuracy: 0.5113 - val_loss: 1.0325 - val_accuracy: 0.4584\n",
            "Epoch 7/15\n",
            "73164/73164 [==============================] - 228s 3ms/step - loss: 0.1965 - accuracy: 0.5117 - val_loss: 1.0258 - val_accuracy: 0.5201\n",
            "Epoch 8/15\n",
            "73164/73164 [==============================] - 229s 3ms/step - loss: 0.1932 - accuracy: 0.5126 - val_loss: 1.0545 - val_accuracy: 0.5229\n",
            "Epoch 9/15\n",
            "73164/73164 [==============================] - 224s 3ms/step - loss: 0.1912 - accuracy: 0.5137 - val_loss: 1.0315 - val_accuracy: 0.4603\n",
            "Epoch 10/15\n",
            "73164/73164 [==============================] - 222s 3ms/step - loss: 0.1887 - accuracy: 0.5139 - val_loss: 1.0764 - val_accuracy: 0.5377\n",
            "Epoch 11/15\n",
            "73164/73164 [==============================] - 220s 3ms/step - loss: 0.1871 - accuracy: 0.5142 - val_loss: 1.0148 - val_accuracy: 0.5382\n",
            "Epoch 12/15\n",
            "73164/73164 [==============================] - 223s 3ms/step - loss: 0.1853 - accuracy: 0.5148 - val_loss: 1.0507 - val_accuracy: 0.4893\n",
            "Epoch 13/15\n",
            "73164/73164 [==============================] - 223s 3ms/step - loss: 0.1818 - accuracy: 0.5163 - val_loss: 1.0902 - val_accuracy: 0.5324\n",
            "Epoch 14/15\n",
            "73164/73164 [==============================] - 226s 3ms/step - loss: 0.1820 - accuracy: 0.5164 - val_loss: 1.0441 - val_accuracy: 0.5499\n",
            "Epoch 15/15\n",
            "73164/73164 [==============================] - 222s 3ms/step - loss: 0.1819 - accuracy: 0.5163 - val_loss: 1.0131 - val_accuracy: 0.5112\n"
          ],
          "name": "stdout"
        }
      ]
    },
    {
      "cell_type": "code",
      "metadata": {
        "id": "iWEErBWiIFLQ"
      },
      "source": [
        "# define model 2\n",
        "model_2 = Sequential()\n",
        "model_2.add(Conv1D(filters=64, kernel_size=2, activation='relu', input_shape=(n_steps, n_features), padding='same'))\n",
        "model_2.add(BatchNormalization())\n",
        "model_2.add(MaxPooling1D(pool_size=2, padding='same'))\n",
        "\n",
        "model_2.add(Conv1D(filters=64, kernel_size=2, activation='relu', padding='same'))\n",
        "model_2.add(BatchNormalization())\n",
        "model_2.add(MaxPooling1D(pool_size=2, padding='same'))\n",
        "\n",
        "model_2.add(Conv1D(filters=64, kernel_size=2, activation='relu', padding='same'))\n",
        "model_2.add(BatchNormalization())\n",
        "model_2.add(MaxPooling1D(pool_size=2))\n",
        "\n",
        "model_2.add(Conv1D(filters=64, kernel_size=2, activation='relu', padding='same'))\n",
        "model_2.add(BatchNormalization())\n",
        "model_2.add(MaxPooling1D(pool_size=2))\n",
        "\n",
        "model_2.add(Flatten())\n",
        "model_2.add(Dense(50, activation='relu'))\n",
        "\n",
        "\n",
        "model_2.add(BatchNormalization())\n",
        "\n",
        "model_2.add(Dense(1))\n",
        "model_2.compile(optimizer='Adam', loss='mse', metrics=['accuracy'])"
      ],
      "execution_count": null,
      "outputs": []
    },
    {
      "cell_type": "code",
      "metadata": {
        "colab": {
          "base_uri": "https://localhost:8080/"
        },
        "id": "qUdtCbjOINaL",
        "outputId": "9a7433a1-2e5d-4046-88ad-8acd232df45b"
      },
      "source": [
        "base_history_model_2 = model_2.fit(X, y, epochs=12, validation_data=(X_val, y_val), verbose=1)"
      ],
      "execution_count": null,
      "outputs": [
        {
          "output_type": "stream",
          "text": [
            "Epoch 1/12\n",
            "73164/73164 [==============================] - 749s 10ms/step - loss: 0.3192 - accuracy: 0.5006 - val_loss: 0.9998 - val_accuracy: 0.6032\n",
            "Epoch 2/12\n",
            "73164/73164 [==============================] - 676s 9ms/step - loss: 0.1366 - accuracy: 0.5466 - val_loss: 0.9724 - val_accuracy: 0.6085\n",
            "Epoch 3/12\n",
            "73164/73164 [==============================] - 681s 9ms/step - loss: 0.1139 - accuracy: 0.5525 - val_loss: 1.0817 - val_accuracy: 0.6422\n",
            "Epoch 4/12\n",
            "73164/73164 [==============================] - 982s 13ms/step - loss: 0.1009 - accuracy: 0.5553 - val_loss: 0.9707 - val_accuracy: 0.6607\n",
            "Epoch 5/12\n",
            "73164/73164 [==============================] - 862s 12ms/step - loss: 0.0943 - accuracy: 0.5568 - val_loss: 1.0037 - val_accuracy: 0.6547\n",
            "Epoch 6/12\n",
            "73164/73164 [==============================] - 790s 11ms/step - loss: 0.0879 - accuracy: 0.5585 - val_loss: 0.9507 - val_accuracy: 0.6770\n",
            "Epoch 7/12\n",
            "73164/73164 [==============================] - 686s 9ms/step - loss: 0.0845 - accuracy: 0.5588 - val_loss: 1.0130 - val_accuracy: 0.6467\n",
            "Epoch 8/12\n",
            "73164/73164 [==============================] - 621s 8ms/step - loss: 0.0810 - accuracy: 0.5598 - val_loss: 1.0120 - val_accuracy: 0.6496\n",
            "Epoch 9/12\n",
            "73164/73164 [==============================] - 700s 10ms/step - loss: 0.0780 - accuracy: 0.5610 - val_loss: 1.0060 - val_accuracy: 0.6711\n",
            "Epoch 10/12\n",
            "73164/73164 [==============================] - 935s 13ms/step - loss: 0.0760 - accuracy: 0.5613 - val_loss: 0.9606 - val_accuracy: 0.6700\n",
            "Epoch 11/12\n",
            "73164/73164 [==============================] - 836s 11ms/step - loss: 0.0746 - accuracy: 0.5615 - val_loss: 1.0328 - val_accuracy: 0.6496\n",
            "Epoch 12/12\n",
            "73164/73164 [==============================] - 699s 10ms/step - loss: 0.0725 - accuracy: 0.5623 - val_loss: 1.0392 - val_accuracy: 0.6619\n"
          ],
          "name": "stdout"
        }
      ]
    },
    {
      "cell_type": "code",
      "metadata": {
        "id": "cgHzYDQB4dWF"
      },
      "source": [
        "# Defining a function for plotting training and validation learning curves\n",
        "def plot_history(history):\n",
        "\t  # plot loss\n",
        "    plt.title('Loss')\n",
        "    plt.plot(history.history['loss'], color='blue', label='train')\n",
        "    plt.plot(history.history['val_loss'], color='red', label='test')\n",
        "    plt.ylabel('Loss')\n",
        "    plt.xlabel('Epoch')\n",
        "    plt.legend(['Train', 'Validation'])\n",
        "    plt.show()\n",
        "\n",
        "    # plot accuracy\n",
        "    plt.title('Accuracy')\n",
        "    plt.plot(history.history['accuracy'], color='blue', label='train')\n",
        "    plt.plot(history.history['val_accuracy'], color='red', label='test')\n",
        "    plt.ylabel('Accuracy')\n",
        "    plt.xlabel('Epoch')\n",
        "    plt.legend(['Train', 'Validation'])\n",
        "    plt.show()"
      ],
      "execution_count": null,
      "outputs": []
    },
    {
      "cell_type": "code",
      "metadata": {
        "colab": {
          "base_uri": "https://localhost:8080/",
          "height": 590
        },
        "id": "SPd1pkzy4fkg",
        "outputId": "88a97af9-688d-471d-d617-f3104fd49786"
      },
      "source": [
        "# plot data\n",
        "print(\"Inference on validation data set\")\n",
        "plot_history(base_history_model_2)"
      ],
      "execution_count": null,
      "outputs": [
        {
          "output_type": "stream",
          "text": [
            "Inference on validation data set\n"
          ],
          "name": "stdout"
        },
        {
          "output_type": "display_data",
          "data": {
            "image/png": "[encoded data removed]",
            "text/plain": [
              "<Figure size 432x288 with 1 Axes>"
            ]
          },
          "metadata": {
            "tags": [],
            "needs_background": "light"
          }
        },
        {
          "output_type": "display_data",
          "data": {
            "image/png": "[encoded data removed]",
            "text/plain": [
              "<Figure size 432x288 with 1 Axes>"
            ]
          },
          "metadata": {
            "tags": [],
            "needs_background": "light"
          }
        }
      ]
    },
    {
      "cell_type": "code",
      "metadata": {
        "colab": {
          "base_uri": "https://localhost:8080/"
        },
        "id": "pmYNxIOoGu3K",
        "outputId": "c67af337-8e2c-430e-dbb5-4dbfcccb1696"
      },
      "source": [
        "#Calculate metrics\n",
        "from sklearn.metrics import accuracy_score\n",
        "from sklearn.metrics import precision_score\n",
        "from sklearn.metrics import recall_score\n",
        "from sklearn.metrics import f1_score\n",
        "prediction2 = model_2.predict(X_val)\n",
        "yhat_classes = model_2.predict_classes(X_val, verbose=0)\n",
        "accuracy = accuracy_score(y_val, yhat_classes)\n",
        "print('Accuracy: %f' % accuracy)\n",
        "precision = precision_score(y_val, yhat_classes, average='weighted')\n",
        "print('Precision: %f' % precision)\n",
        "# recall: tp / (tp + fn)\n",
        "recall = recall_score(y_val, yhat_classes, average='weighted')\n",
        "print('Recall: %f' % recall)\n",
        "# f1: 2 tp / (2 tp + fp + fn)\n",
        "f1 = f1_score(y_val, yhat_classes, average='weighted')\n",
        "print('F1 score: %f' % f1)"
      ],
      "execution_count": null,
      "outputs": [
        {
          "output_type": "stream",
          "text": [
            "/usr/local/lib/python3.7/dist-packages/tensorflow/python/keras/engine/sequential.py:450: UserWarning: `model.predict_classes()` is deprecated and will be removed after 2021-01-01. Please use instead:* `np.argmax(model.predict(x), axis=-1)`,   if your model does multi-class classification   (e.g. if it uses a `softmax` last-layer activation).* `(model.predict(x) > 0.5).astype(\"int32\")`,   if your model does binary classification   (e.g. if it uses a `sigmoid` last-layer activation).\n",
            "  warnings.warn('`model.predict_classes()` is deprecated and '\n"
          ],
          "name": "stderr"
        },
        {
          "output_type": "stream",
          "text": [
            "Accuracy: 0.661870\n",
            "Precision: 0.701942\n",
            "Recall: 0.661870\n",
            "F1 score: 0.673942\n"
          ],
          "name": "stdout"
        },
        {
          "output_type": "stream",
          "text": [
            "/usr/local/lib/python3.7/dist-packages/sklearn/metrics/_classification.py:1272: UndefinedMetricWarning: Precision is ill-defined and being set to 0.0 in labels with no predicted samples. Use `zero_division` parameter to control this behavior.\n",
            "  _warn_prf(average, modifier, msg_start, len(result))\n"
          ],
          "name": "stderr"
        }
      ]
    },
    {
      "cell_type": "code",
      "metadata": {
        "colab": {
          "resources": {
            "http://localhost:8080/nbextensions/google.colab/files.js": {
              "data": "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",
              "ok": true,
              "headers": [
                [
                  "content-type",
                  "application/javascript"
                ]
              ],
              "status": 200,
              "status_text": ""
            }
          },
          "base_uri": "https://localhost:8080/",
          "height": 446
        },
        "id": "agXwKZL91_Qr",
        "outputId": "f7e80808-a5a5-45f7-96db-0ad2b7cef468"
      },
      "source": [
        "# predictions\n",
        "# # upload files for test data\n",
        "from google.colab import files\n",
        "\n",
        "uploaded = files.upload()"
      ],
      "execution_count": null,
      "outputs": [
        {
          "output_type": "display_data",
          "data": {
            "text/html": [
              "\n",
              "     <input type=\"file\" id=\"files-ab1a499c-2841-4a2f-bb87-c93ee86d3ad4\" name=\"files[]\" multiple disabled\n",
              "        style=\"border:none\" />\n",
              "     <output id=\"result-ab1a499c-2841-4a2f-bb87-c93ee86d3ad4\">\n",
              "      Upload widget is only available when the cell has been executed in the\n",
              "      current browser session. Please rerun this cell to enable.\n",
              "      </output>\n",
              "      <script src=\"/nbextensions/google.colab/files.js\"></script> "
            ],
            "text/plain": [
              "<IPython.core.display.HTML object>"
            ]
          },
          "metadata": {
            "tags": []
          }
        },
        {
          "output_type": "stream",
          "text": [
            "Saving subject_009_01__x.csv to subject_009_01__x.csv\n",
            "Saving subject_009_01__x_time.csv to subject_009_01__x_time.csv\n",
            "Saving subject_009_01__y_time.csv to subject_009_01__y_time.csv\n",
            "Saving subject_010_01__x.csv to subject_010_01__x.csv\n",
            "Saving subject_010_01__x_time.csv to subject_010_01__x_time.csv\n",
            "Saving subject_010_01__y_time.csv to subject_010_01__y_time.csv\n",
            "Saving subject_011_01__x.csv to subject_011_01__x.csv\n",
            "Saving subject_011_01__x_time.csv to subject_011_01__x_time.csv\n",
            "Saving subject_011_01__y_time.csv to subject_011_01__y_time.csv\n",
            "Saving subject_012_01__x.csv to subject_012_01__x.csv\n",
            "Saving subject_012_01__x_time.csv to subject_012_01__x_time.csv\n",
            "Saving subject_012_01__y_time.csv to subject_012_01__y_time.csv\n"
          ],
          "name": "stdout"
        }
      ]
    },
    {
      "cell_type": "code",
      "metadata": {
        "id": "NNRmkt4t7VA_"
      },
      "source": [
        "headerList1 = ['time']\n",
        "headerList2 = ['xacc','yacc','zacc','xgyr','ygyr','zgyr']\n",
        "\n"
      ],
      "execution_count": null,
      "outputs": []
    },
    {
      "cell_type": "code",
      "metadata": {
        "id": "jhud_ixEAOr9"
      },
      "source": [
        "def split_sequences_x(sequences, n_steps):\n",
        "\tX = list()\n",
        "\tfor i in range(len(sequences)):\n",
        "\t\t# find the end of this pattern\n",
        "\t\tend_ix = i + n_steps\n",
        "\t\t# check if we are beyond the dataset\n",
        "\t\tif end_ix > len(sequences):\n",
        "\t\t\tbreak\n",
        "\t\t# gather input and output parts of the pattern\n",
        "\t\tseq_x= sequences[i:end_ix,:]\n",
        "\t\tX.append(seq_x)\n",
        "\treturn array(X)"
      ],
      "execution_count": null,
      "outputs": []
    },
    {
      "cell_type": "code",
      "metadata": {
        "colab": {
          "base_uri": "https://localhost:8080/"
        },
        "id": "we6qgRPo2gyH",
        "outputId": "1b0528de-925a-45df-947e-94343c20f6e8"
      },
      "source": [
        "# subject 9 setup\n",
        "x_test_sub9 = pd.read_csv(io.BytesIO(uploaded['subject_009_01__x.csv']))\n",
        "x_test_sub9 = x_test_sub9.to_csv(\"cvs3.csv\", header=headerList2, index=False)\n",
        "x_test_sub9 = pd.read_csv(\"cvs3.csv\")\n",
        "print(x_test_sub9)\n",
        "\n",
        "xacc_t = x_test_sub9['xacc'].to_numpy()\n",
        "yacc_t = x_test_sub9['yacc'].to_numpy()\n",
        "zacc_t = x_test_sub9['zacc'].to_numpy()\n",
        "xgyr_t = x_test_sub9['xgyr'].to_numpy()\n",
        "ygyr_t = x_test_sub9['ygyr'].to_numpy()\n",
        "zgyr_t = x_test_sub9['zgyr'].to_numpy()\n",
        "\n",
        "xacc_t = xacc_t.reshape((len(xacc_t)), 1)\n",
        "yacc_t = yacc_t.reshape((len(yacc_t)), 1)\n",
        "zacc_t = zacc_t.reshape((len(zacc_t)), 1)\n",
        "xgyr_t = xgyr_t.reshape((len(xgyr_t)), 1)\n",
        "ygyr_t = ygyr_t.reshape((len(ygyr_t)), 1)\n",
        "zgyr_t = zgyr_t.reshape((len(zgyr_t)), 1)\n",
        "\n",
        "np_dataset_test_sub9 = hstack((xacc_t, yacc_t, zacc_t, xgyr_t, ygyr_t, zgyr_t))\n",
        "print(np_dataset_test_sub9)\n"
      ],
      "execution_count": null,
      "outputs": [
        {
          "output_type": "stream",
          "text": [
            "           xacc      yacc      zacc      xgyr      ygyr      zgyr\n",
            "0      0.413795  8.706898 -4.456205  0.000000 -0.002838  0.007162\n",
            "1      0.423914  8.707828 -4.502172  0.002037  0.001111  0.007778\n",
            "2      0.442981  8.718078 -4.502980  0.000403  0.004648  0.008384\n",
            "3      0.485234  8.725234 -4.520000 -0.000020  0.006667  0.007778\n",
            "4      0.500000  8.705882 -4.470592  0.000225  0.006636  0.006126\n",
            "...         ...       ...       ...       ...       ...       ...\n",
            "37985  0.930160  9.009839 -3.756774  0.000203  0.000706  0.003739\n",
            "37986  0.955662  8.983775 -3.763775 -0.001557  0.001610  0.001111\n",
            "37987  0.930297  9.000000 -3.750178  0.001963  0.002815  0.001629\n",
            "37988  0.965183  9.015183 -3.780000  0.001557 -0.000111  0.002334\n",
            "37989  0.985275  9.007637 -3.762912 -0.000535 -0.001838  0.000000\n",
            "\n",
            "[37990 rows x 6 columns]\n",
            "[[ 4.137955e-01  8.706898e+00 -4.456205e+00  0.000000e+00 -2.837680e-03\n",
            "   7.162320e-03]\n",
            " [ 4.239138e-01  8.707828e+00 -4.502172e+00  2.036766e-03  1.111111e-03\n",
            "   7.777778e-03]\n",
            " [ 4.429805e-01  8.718078e+00 -4.502980e+00  4.030137e-04  4.647834e-03\n",
            "   8.384181e-03]\n",
            " ...\n",
            " [ 9.302971e-01  9.000000e+00 -3.750178e+00  1.963298e-03  2.815485e-03\n",
            "   1.628960e-03]\n",
            " [ 9.651828e-01  9.015183e+00 -3.780000e+00  1.556570e-03 -1.113646e-04\n",
            "   2.333587e-03]\n",
            " [ 9.852750e-01  9.007637e+00 -3.762912e+00 -5.353388e-04 -1.838374e-03\n",
            "   0.000000e+00]]\n"
          ],
          "name": "stdout"
        }
      ]
    },
    {
      "cell_type": "code",
      "metadata": {
        "id": "G9j0ERZoAbZg"
      },
      "source": [
        "n_steps =30\n",
        "X = split_sequences_x(np_dataset_test_sub9,n_steps)"
      ],
      "execution_count": null,
      "outputs": []
    },
    {
      "cell_type": "code",
      "metadata": {
        "id": "FJ1zPr2B83hW"
      },
      "source": [
        "# subject 9 prediction\n",
        "prediction = model_2.predict(X)\n"
      ],
      "execution_count": null,
      "outputs": []
    },
    {
      "cell_type": "code",
      "metadata": {
        "id": "bOuvrPgrEOfC"
      },
      "source": [
        "def upsampling_prediction(prediction):\n",
        "  Yresampled = np.zeros((int(len(prediction)/4),1), dtype=float)\n",
        "\n",
        "  for i in range(len(prediction)):\n",
        "    if(i%4 == 0 and (i/4)<len(Yresampled)):\n",
        "      Yresampled[int(i/4)] = prediction[i]\n",
        "  Yresampled = pd.DataFrame(Yresampled, columns = ['class'])\n",
        "  Yresampled = Yresampled['class'].ffill()\n",
        "\n",
        "  return Yresampled"
      ],
      "execution_count": null,
      "outputs": []
    },
    {
      "cell_type": "code",
      "metadata": {
        "id": "3Byei91VB_cC"
      },
      "source": [
        "# create CSV file\n",
        "np.savetxt(\"subject_009_01__y_prediction.csv\", np.rint(upsampling_prediction(prediction)), delimiter=\",\")"
      ],
      "execution_count": null,
      "outputs": []
    },
    {
      "cell_type": "code",
      "metadata": {
        "id": "9-sObhUB6686"
      },
      "source": [
        "# subject 10\n",
        "x_test_sub10 = pd.read_csv(io.BytesIO(uploaded['subject_010_01__x.csv']))\n",
        "x_test_sub10 = x_test_sub10.to_csv(\"cvs4.csv\", header=headerList2, index=False)\n",
        "x_test_sub10 = pd.read_csv(\"cvs4.csv\")\n",
        "\n",
        "xacc_t = x_test_sub10['xacc'].to_numpy()\n",
        "yacc_t = x_test_sub10['yacc'].to_numpy()\n",
        "zacc_t = x_test_sub10['zacc'].to_numpy()\n",
        "xgyr_t = x_test_sub10['xgyr'].to_numpy()\n",
        "ygyr_t = x_test_sub10['ygyr'].to_numpy()\n",
        "zgyr_t = x_test_sub10['zgyr'].to_numpy()\n",
        "\n",
        "xacc_t = xacc_t.reshape((len(xacc_t)), 1)\n",
        "yacc_t = yacc_t.reshape((len(yacc_t)), 1)\n",
        "zacc_t = zacc_t.reshape((len(zacc_t)), 1)\n",
        "xgyr_t = xgyr_t.reshape((len(xgyr_t)), 1)\n",
        "ygyr_t = ygyr_t.reshape((len(ygyr_t)), 1)\n",
        "zgyr_t = zgyr_t.reshape((len(zgyr_t)), 1)\n",
        "\n",
        "np_dataset_test_sub10 = hstack((xacc_t, yacc_t, zacc_t, xgyr_t, ygyr_t, zgyr_t))"
      ],
      "execution_count": null,
      "outputs": []
    },
    {
      "cell_type": "code",
      "metadata": {
        "id": "ZZNB_80HG8Zi"
      },
      "source": [
        "n_steps =30\n",
        "X_10 = split_sequences_x(np_dataset_test_sub10,n_steps)"
      ],
      "execution_count": null,
      "outputs": []
    },
    {
      "cell_type": "code",
      "metadata": {
        "id": "Y22x1lADG814"
      },
      "source": [
        "# subject 10 prediction\n",
        "prediction_10 = model_2.predict(X_10)"
      ],
      "execution_count": null,
      "outputs": []
    },
    {
      "cell_type": "code",
      "metadata": {
        "id": "qRWZtlVeHhbs"
      },
      "source": [
        "# create CSV file\n",
        "np.savetxt(\"subject_010_01__y_prediction.csv\", np.rint(upsampling_prediction(prediction_10)), delimiter=\",\")"
      ],
      "execution_count": null,
      "outputs": []
    },
    {
      "cell_type": "code",
      "metadata": {
        "id": "Kdo7P4Wj67No"
      },
      "source": [
        "# subject 11\n",
        "x_test_sub11 = pd.read_csv(io.BytesIO(uploaded['subject_011_01__x.csv']))\n",
        "x_test_sub11 = x_test_sub11.to_csv(\"cvs5.csv\", header=headerList2, index=False)\n",
        "x_test_sub11 = pd.read_csv(\"cvs5.csv\")\n",
        "\n",
        "xacc_t = x_test_sub11['xacc'].to_numpy()\n",
        "yacc_t = x_test_sub11['yacc'].to_numpy()\n",
        "zacc_t = x_test_sub11['zacc'].to_numpy()\n",
        "xgyr_t = x_test_sub11['xgyr'].to_numpy()\n",
        "ygyr_t = x_test_sub11['ygyr'].to_numpy()\n",
        "zgyr_t = x_test_sub11['zgyr'].to_numpy()\n",
        "\n",
        "xacc_t = xacc_t.reshape((len(xacc_t)), 1)\n",
        "yacc_t = yacc_t.reshape((len(yacc_t)), 1)\n",
        "zacc_t = zacc_t.reshape((len(zacc_t)), 1)\n",
        "xgyr_t = xgyr_t.reshape((len(xgyr_t)), 1)\n",
        "ygyr_t = ygyr_t.reshape((len(ygyr_t)), 1)\n",
        "zgyr_t = zgyr_t.reshape((len(zgyr_t)), 1)\n",
        "\n",
        "np_dataset_test_sub11 = hstack((xacc_t, yacc_t, zacc_t, xgyr_t, ygyr_t, zgyr_t))"
      ],
      "execution_count": null,
      "outputs": []
    },
    {
      "cell_type": "code",
      "metadata": {
        "id": "csMZI4hEH_gp"
      },
      "source": [
        "n_steps =30\n",
        "X_11 = split_sequences_x(np_dataset_test_sub11,n_steps)"
      ],
      "execution_count": null,
      "outputs": []
    },
    {
      "cell_type": "code",
      "metadata": {
        "id": "BNiwYvV7H_3Q"
      },
      "source": [
        "# subject 10 prediction\n",
        "prediction_11 = model_2.predict(X_11)"
      ],
      "execution_count": null,
      "outputs": []
    },
    {
      "cell_type": "code",
      "metadata": {
        "id": "Kfp0dBaZIAII"
      },
      "source": [
        "# create CSV file\n",
        "np.savetxt(\"subject_011_01__y_prediction.csv\", np.rint(upsampling_prediction(prediction_11)), delimiter=\",\")"
      ],
      "execution_count": null,
      "outputs": []
    },
    {
      "cell_type": "code",
      "metadata": {
        "id": "Xd6347AY67cP"
      },
      "source": [
        "# subject 12\n",
        "x_test_sub12 = pd.read_csv(io.BytesIO(uploaded['subject_012_01__x.csv']))\n",
        "x_test_sub12 = x_test_sub12.to_csv(\"cvs6.csv\", header=headerList2, index=False)\n",
        "x_test_sub12 = pd.read_csv(\"cvs6.csv\")\n",
        "\n",
        "xacc_t = x_test_sub12['xacc'].to_numpy()\n",
        "yacc_t = x_test_sub12['yacc'].to_numpy()\n",
        "zacc_t = x_test_sub12['zacc'].to_numpy()\n",
        "xgyr_t = x_test_sub12['xgyr'].to_numpy()\n",
        "ygyr_t = x_test_sub12['ygyr'].to_numpy()\n",
        "zgyr_t = x_test_sub12['zgyr'].to_numpy()\n",
        "\n",
        "xacc_t = xacc_t.reshape((len(xacc_t)), 1)\n",
        "yacc_t = yacc_t.reshape((len(yacc_t)), 1)\n",
        "zacc_t = zacc_t.reshape((len(zacc_t)), 1)\n",
        "xgyr_t = xgyr_t.reshape((len(xgyr_t)), 1)\n",
        "ygyr_t = ygyr_t.reshape((len(ygyr_t)), 1)\n",
        "zgyr_t = zgyr_t.reshape((len(zgyr_t)), 1)\n",
        "\n",
        "np_dataset_test_sub12 = hstack((xacc_t, yacc_t, zacc_t, xgyr_t, ygyr_t, zgyr_t))"
      ],
      "execution_count": null,
      "outputs": []
    },
    {
      "cell_type": "code",
      "metadata": {
        "id": "oJEhD2Ry67s-"
      },
      "source": [
        "n_steps =30\n",
        "X_12 = split_sequences_x(np_dataset_test_sub12,n_steps)"
      ],
      "execution_count": null,
      "outputs": []
    },
    {
      "cell_type": "code",
      "metadata": {
        "id": "7g01mKQXIfr_"
      },
      "source": [
        "# subject 10 prediction\n",
        "prediction_12 = model_2.predict(X_12)"
      ],
      "execution_count": null,
      "outputs": []
    },
    {
      "cell_type": "code",
      "metadata": {
        "id": "dPcR1Y95If9K"
      },
      "source": [
        "# create CSV file\n",
        "np.savetxt(\"subject_012_01__y_prediction.csv\", np.rint(upsampling_prediction(prediction_12)), delimiter=\",\")"
      ],
      "execution_count": null,
      "outputs": []
    }
  ]
}